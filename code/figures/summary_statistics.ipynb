{
 "cells": [
  {
   "cell_type": "code",
   "execution_count": 2,
   "metadata": {},
   "outputs": [],
   "source": [
    "import os\n",
    "import numpy as np\n",
    "import pandas as pd\n",
    "import matplotlib.pyplot as plt\n",
    "import matplotlib.cm as cm\n",
    "import matplotlib.lines as mlines\n",
    "import matplotlib.patches as mpatches\n",
    "from sklearn.decomposition import PCA\n",
    "from sklearn.manifold import TSNE\n",
    "from sklearn.cluster import KMeans, MiniBatchKMeans, SpectralClustering\n",
    "import pickle"
   ]
  },
  {
   "cell_type": "code",
   "execution_count": 3,
   "metadata": {},
   "outputs": [],
   "source": [
    "def load_language_dataset(language:str, prepath='data', template='_dedupe_definitions_v2.pkl'):\n",
    "    '''\n",
    "    valid languages are determined by which zips you've unpickled: java, javascript, go, python\n",
    "    '''\n",
    "    with open(os.path.join(prepath, language + template), 'rb') as f:\n",
    "        raw_data = pickle.load(f)\n",
    "    return raw_data"
   ]
  },
  {
   "cell_type": "markdown",
   "metadata": {},
   "source": [
    "token_filter = {\n",
    "    'python': tr.NOISE_TOKEN_PYTHON | tr.LOGIC_TOKEN_PYTHON | tr.SYNTAX_TOKEN_PYTHON,\n",
    "    'go': tr.NOISE_TOKEN_GO | tr.LOGIC_TOKEN_GO | tr.SYNTAX_TOKEN_GO,\n",
    "    'java': tr.NOISE_TOKEN_JAVA | tr.LOGIC_TOKEN_JAVA | tr.SYNTAX_TOKEN_JAVA,\n",
    "    'javascript': tr.NOISE_TOKEN_JS | tr.LOGIC_TOKEN_JS | tr.SYNTAX_TOKEN_JS\n",
    "}"
   ]
  },
  {
   "cell_type": "code",
   "execution_count": null,
   "metadata": {},
   "outputs": [],
   "source": [
    "# Taken From https://github.com/github/CodeSearchNet/blob/master/notebooks/ExploreData.ipynb\n",
    "columns_long_list = ['repo', 'path', 'url', 'code', \n",
    "                     'code_tokens', 'docstring', 'docstring_tokens', \n",
    "                     'language', 'partition']\n",
    "\n",
    "columns_short_list = ['code_tokens', 'docstring_tokens', \n",
    "                      'language', 'partition']"
   ]
  },
  {
   "cell_type": "markdown",
   "metadata": {},
   "source": [
    "# Python Language Statistics"
   ]
  },
  {
   "cell_type": "code",
   "execution_count": null,
   "metadata": {},
   "outputs": [],
   "source": [
    "p = load_language_dataset('python', prepath='../data')\n",
    "p_data = pd.DataFrame(p)\n",
    "print('n =', p_data.shape)"
   ]
  },
  {
   "cell_type": "code",
   "execution_count": null,
   "metadata": {},
   "outputs": [],
   "source": [
    "python_fts = p_data['function_tokens'].apply(lambda x: len(x))\n",
    "python_dcs = p_data['docstring_tokens'].apply(lambda x: len(x))\n",
    "print(python_fts.quantile([.5, .75, .9, .95]))\n",
    "print('mean = ', python_fts.mean())\n",
    "print(python_dcs.quantile([.5, .75, .9, .95]))\n",
    "print('mean = ', python_dcs.mean())\n",
    "\n",
    "a = p_data['function_tokens'].apply(lambda x : set(map(lambda x: x.lower(), x)))\n",
    "print('total number of tokens = ', np.sum(a.apply(lambda x: len(x))))\n",
    "print('number of unique tokens =', len(set().union(*a)))"
   ]
  },
  {
   "cell_type": "code",
   "execution_count": 1,
   "metadata": {},
   "outputs": [
    {
     "ename": "NameError",
     "evalue": "name 'p_data' is not defined",
     "output_type": "error",
     "traceback": [
      "\u001b[0;31m---------------------------------------------------------------------------\u001b[0m",
      "\u001b[0;31mNameError\u001b[0m                                 Traceback (most recent call last)",
      "\u001b[0;32m<ipython-input-1-df7ccebf51f0>\u001b[0m in \u001b[0;36m<module>\u001b[0;34m\u001b[0m\n\u001b[0;32m----> 1\u001b[0;31m \u001b[0mp_data\u001b[0m\u001b[0;34m[\u001b[0m\u001b[0;34m'function'\u001b[0m\u001b[0;34m]\u001b[0m\u001b[0;34m[\u001b[0m\u001b[0;36m0\u001b[0m\u001b[0;34m]\u001b[0m\u001b[0;34m\u001b[0m\u001b[0;34m\u001b[0m\u001b[0m\n\u001b[0m",
      "\u001b[0;31mNameError\u001b[0m: name 'p_data' is not defined"
     ]
    }
   ],
   "source": [
    "p_data['function'][0]"
   ]
  },
  {
   "cell_type": "code",
   "execution_count": null,
   "metadata": {
    "scrolled": true
   },
   "outputs": [],
   "source": [
    "p_data['function_tokens'][0]"
   ]
  },
  {
   "cell_type": "markdown",
   "metadata": {},
   "source": [
    "# Go Language Statistics"
   ]
  },
  {
   "cell_type": "code",
   "execution_count": 4,
   "metadata": {},
   "outputs": [
    {
     "name": "stdout",
     "output_type": "stream",
     "text": [
      "n = (726768, 15)\n"
     ]
    }
   ],
   "source": [
    "g = load_language_dataset('go', prepath='../data')\n",
    "g_data = pd.DataFrame(g)\n",
    "print('n =', g_data.shape)"
   ]
  },
  {
   "cell_type": "code",
   "execution_count": 5,
   "metadata": {},
   "outputs": [
    {
     "name": "stdout",
     "output_type": "stream",
     "text": [
      "0.50     64.0\n",
      "0.75    125.0\n",
      "0.90    234.0\n",
      "0.95    348.0\n",
      "Name: function_tokens, dtype: float64\n",
      "mean =  116.62444136230545\n",
      "0.50     0.0\n",
      "0.75    11.0\n",
      "0.90    27.0\n",
      "0.95    47.0\n",
      "Name: docstring_tokens, dtype: float64\n",
      "mean =  11.785700526165158\n",
      "total number of tokens =  24831834\n",
      "number of unique tokens = 1336504\n"
     ]
    }
   ],
   "source": [
    "go_fts = g_data['function_tokens'].apply(lambda x: len(x))\n",
    "go_dcs = g_data['docstring_tokens'].apply(lambda x: len(x))\n",
    "print(go_fts.quantile([.5, .75, .9, .95]))\n",
    "print('mean = ', go_fts.mean())\n",
    "print(go_dcs.quantile([.5, .75, .9, .95]))\n",
    "print('mean = ', go_dcs.mean())\n",
    "\n",
    "a = g_data['function_tokens'].apply(lambda x : set(map(lambda x: x.lower(), x)))\n",
    "print('total number of tokens = ', np.sum(a.apply(lambda x: len(x))))\n",
    "print('number of unique tokens =', len(set().union(*a)))"
   ]
  },
  {
   "cell_type": "markdown",
   "metadata": {},
   "source": [
    "# Java Language Statistics"
   ]
  },
  {
   "cell_type": "code",
   "execution_count": 3,
   "metadata": {},
   "outputs": [
    {
     "name": "stdout",
     "output_type": "stream",
     "text": [
      "n = (1569889, 15)\n"
     ]
    }
   ],
   "source": [
    "j = load_language_dataset('java', prepath='../data')\n",
    "j_data = pd.DataFrame(j)\n",
    "print('n =', j_data.shape)"
   ]
  },
  {
   "cell_type": "code",
   "execution_count": 4,
   "metadata": {},
   "outputs": [
    {
     "name": "stdout",
     "output_type": "stream",
     "text": [
      "0.50     65.0\n",
      "0.75    119.0\n",
      "0.90    218.0\n",
      "0.95    319.0\n",
      "Name: function_tokens, dtype: float64\n",
      "mean =  110.23698745580101\n",
      "0.50     0.0\n",
      "0.75     6.0\n",
      "0.90    18.0\n",
      "0.95    29.0\n",
      "Name: docstring_tokens, dtype: float64\n",
      "mean =  6.14824614988703\n",
      "total number of tokens =  56004908\n",
      "number of unique tokens = 4178498\n"
     ]
    }
   ],
   "source": [
    "j_fts = j_data['function_tokens'].apply(lambda x: len(x))\n",
    "j_dcs = j_data['docstring_tokens'].apply(lambda x: len(x))\n",
    "print(j_fts.quantile([.5, .75, .9, .95]))\n",
    "print('mean = ', j_fts.mean())\n",
    "print(j_dcs.quantile([.5, .75, .9, .95]))\n",
    "print('mean = ', j_dcs.mean())\n",
    "\n",
    "a = j_data['function_tokens'].apply(lambda x : set(map(lambda x: x.lower(), x)))\n",
    "print('total number of tokens = ', np.sum(a.apply(lambda x: len(x))))\n",
    "print('number of unique tokens =', len(set().union(*a)))"
   ]
  },
  {
   "cell_type": "markdown",
   "metadata": {},
   "source": [
    "# Javascript Language Statistics"
   ]
  },
  {
   "cell_type": "code",
   "execution_count": 6,
   "metadata": {},
   "outputs": [
    {
     "name": "stdout",
     "output_type": "stream",
     "text": [
      "n = (1857835, 15)\n"
     ]
    }
   ],
   "source": [
    "js = load_language_dataset('javascript', prepath='../data')\n",
    "js_data = pd.DataFrame(js)\n",
    "print('n =', js_data.shape)"
   ]
  },
  {
   "cell_type": "code",
   "execution_count": null,
   "metadata": {},
   "outputs": [
    {
     "name": "stdout",
     "output_type": "stream",
     "text": [
      "0.50     83.0\n",
      "0.75    162.0\n",
      "0.90    347.0\n",
      "0.95    603.0\n",
      "Name: function_tokens, dtype: float64\n",
      "mean =  261.9426671367479\n",
      "0.50    0.0\n",
      "0.75    0.0\n",
      "0.90    0.0\n",
      "0.95    7.0\n",
      "Name: docstring_tokens, dtype: float64\n",
      "mean =  1.1774500964832721\n"
     ]
    }
   ],
   "source": [
    "js_fts = js_data['function_tokens'].apply(lambda x: len(x))\n",
    "js_dcs = js_data['docstring_tokens'].apply(lambda x: len(x))\n",
    "print(js_fts.quantile([.5, .75, .9, .95]))\n",
    "print('mean = ', js_fts.mean())\n",
    "print(js_dcs.quantile([.5, .75, .9, .95]))\n",
    "print('mean = ', js_dcs.mean())\n",
    "\n",
    "a = js_data['function_tokens'].apply(lambda x : set(map(lambda x: x.lower(), x)))\n",
    "print('total number of tokens = ', np.sum(a.apply(lambda x: len(x))))\n",
    "print('number of unique tokens =', len(set().union(*a)))"
   ]
  },
  {
   "cell_type": "code",
   "execution_count": null,
   "metadata": {},
   "outputs": [],
   "source": []
  },
  {
   "cell_type": "code",
   "execution_count": null,
   "metadata": {},
   "outputs": [],
   "source": []
  },
  {
   "cell_type": "code",
   "execution_count": null,
   "metadata": {},
   "outputs": [],
   "source": []
  },
  {
   "cell_type": "code",
   "execution_count": null,
   "metadata": {},
   "outputs": [],
   "source": [
    "all_df.language.value_counts()\n",
    "all_df.groupby(['partition', 'language'])['code_tokens'].count()\n"
   ]
  },
  {
   "cell_type": "code",
   "execution_count": null,
   "metadata": {},
   "outputs": [],
   "source": [
    "all_df['code_len'] = all_df.code_tokens.apply(lambda x: len(x))\n",
    "all_df['query_len'] = all_df.docstring_tokens.apply(lambda x: len(x))"
   ]
  },
  {
   "cell_type": "code",
   "execution_count": null,
   "metadata": {},
   "outputs": [],
   "source": [
    "code_len_summary = all_df.groupby('language')['code_len'].quantile([.5, .7, .8, .9, .95])\n",
    "display(pd.DataFrame(code_len_summary))"
   ]
  }
 ],
 "metadata": {
  "kernelspec": {
   "display_name": "Python 3",
   "language": "python",
   "name": "python3"
  },
  "language_info": {
   "codemirror_mode": {
    "name": "ipython",
    "version": 3
   },
   "file_extension": ".py",
   "mimetype": "text/x-python",
   "name": "python",
   "nbconvert_exporter": "python",
   "pygments_lexer": "ipython3",
   "version": "3.6.9"
  }
 },
 "nbformat": 4,
 "nbformat_minor": 2
}
